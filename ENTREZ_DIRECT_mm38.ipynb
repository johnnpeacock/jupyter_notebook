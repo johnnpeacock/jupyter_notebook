{
 "cells": [
  {
   "cell_type": "markdown",
   "metadata": {},
   "source": [
    "##### John Peacock \n",
    "                                                                        October 6 2017\n",
    "\n",
    "# Extract Metadata from any NCBI database\n",
    " \n",
    "\n",
    "The Entrez Direct command line interphase uses UNIX Terminal Bash commands. \n",
    "## IMPORTANT begin each code cell with"
   ]
  },
  {
   "cell_type": "code",
   "execution_count": 154,
   "metadata": {},
   "outputs": [],
   "source": [
    "%%bash"
   ]
  },
  {
   "cell_type": "code",
   "execution_count": null,
   "metadata": {
    "collapsed": true
   },
   "outputs": [],
   "source": []
  },
  {
   "cell_type": "markdown",
   "metadata": {},
   "source": [
    "# Entrez Direct Functions\n",
    "enter a command followed by <tab> to display a dropdown menue of available options "
   ]
  },
  {
   "cell_type": "code",
   "execution_count": 137,
   "metadata": {},
   "outputs": [
    {
     "name": "stderr",
     "output_type": "stream",
     "text": [
      "Must supply -db database on command line\n"
     ]
    }
   ],
   "source": [
    "%%bash\n",
    "esearch \n",
    "#elink\n",
    "#efilter\n",
    "#efetch\n",
    "#xtract\n",
    "#einfo\n",
    "#epost\n",
    "#nquire"
   ]
  },
  {
   "cell_type": "markdown",
   "metadata": {},
   "source": [
    "# EZDirect Handbook "
   ]
  },
  {
   "cell_type": "code",
   "execution_count": 113,
   "metadata": {
    "collapsed": true
   },
   "outputs": [
    {
     "data": {
      "text/html": [
       "<iframe src=https://www.ncbi.nlm.nih.gov/books/NBK25501/pdf/Bookshelf_NBK25501.pdf width=800 height=200></iframe>"
      ],
      "text/plain": [
       "<IPython.core.display.HTML object>"
      ]
     },
     "execution_count": 113,
     "metadata": {},
     "output_type": "execute_result"
    }
   ],
   "source": [
    "# Display the associated webpage in a new window\n",
    "import IPython\n",
    "url = 'https://www.ncbi.nlm.nih.gov/books/NBK25501/pdf/Bookshelf_NBK25501.pdf'\n",
    "iframe = '<iframe src=' + url + ' width=800 height=200></iframe>'\n",
    "IPython.display.HTML(iframe)"
   ]
  },
  {
   "cell_type": "markdown",
   "metadata": {},
   "source": [
    "\n",
    "\n",
    "\n",
    "# SEARCH"
   ]
  },
  {
   "cell_type": "code",
   "execution_count": 135,
   "metadata": {},
   "outputs": [
    {
     "data": {
      "text/html": [
       "<iframe src=http://linjoey.github.io/ncbi-eutils/docs/dbinfo.html width=800 height=600></iframe>"
      ],
      "text/plain": [
       "<IPython.core.display.HTML object>"
      ]
     },
     "execution_count": 135,
     "metadata": {},
     "output_type": "execute_result"
    }
   ],
   "source": [
    "# Display the associated webpage in a new window\n",
    "import IPython\n",
    "url = 'http://linjoey.github.io/ncbi-eutils/docs/dbinfo.html'\n",
    "iframe = '<iframe src=' + url + ' width=800 height=600></iframe>'\n",
    "IPython.display.HTML(iframe)"
   ]
  },
  {
   "cell_type": "code",
   "execution_count": 115,
   "metadata": {
    "collapsed": true
   },
   "outputs": [
    {
     "data": {
      "application/json": {
       "cell": {
        "!": "OSMagics",
        "HTML": "Other",
        "SVG": "Other",
        "bash": "Other",
        "capture": "ExecutionMagics",
        "debug": "ExecutionMagics",
        "file": "Other",
        "html": "DisplayMagics",
        "javascript": "DisplayMagics",
        "js": "DisplayMagics",
        "latex": "DisplayMagics",
        "perl": "Other",
        "prun": "ExecutionMagics",
        "pypy": "Other",
        "python": "Other",
        "python2": "Other",
        "python3": "Other",
        "ruby": "Other",
        "script": "ScriptMagics",
        "sh": "Other",
        "svg": "DisplayMagics",
        "sx": "OSMagics",
        "system": "OSMagics",
        "time": "ExecutionMagics",
        "timeit": "ExecutionMagics",
        "writefile": "OSMagics"
       },
       "line": {
        "alias": "OSMagics",
        "alias_magic": "BasicMagics",
        "autocall": "AutoMagics",
        "automagic": "AutoMagics",
        "autosave": "KernelMagics",
        "bookmark": "OSMagics",
        "cat": "Other",
        "cd": "OSMagics",
        "clear": "KernelMagics",
        "colors": "BasicMagics",
        "config": "ConfigMagics",
        "connect_info": "KernelMagics",
        "cp": "Other",
        "debug": "ExecutionMagics",
        "dhist": "OSMagics",
        "dirs": "OSMagics",
        "doctest_mode": "BasicMagics",
        "ed": "Other",
        "edit": "KernelMagics",
        "env": "OSMagics",
        "gui": "BasicMagics",
        "hist": "Other",
        "history": "HistoryMagics",
        "killbgscripts": "ScriptMagics",
        "ldir": "Other",
        "less": "KernelMagics",
        "lf": "Other",
        "lk": "Other",
        "ll": "Other",
        "load": "CodeMagics",
        "load_ext": "ExtensionMagics",
        "loadpy": "CodeMagics",
        "logoff": "LoggingMagics",
        "logon": "LoggingMagics",
        "logstart": "LoggingMagics",
        "logstate": "LoggingMagics",
        "logstop": "LoggingMagics",
        "ls": "Other",
        "lsmagic": "BasicMagics",
        "lx": "Other",
        "macro": "ExecutionMagics",
        "magic": "BasicMagics",
        "man": "KernelMagics",
        "matplotlib": "PylabMagics",
        "mkdir": "Other",
        "more": "KernelMagics",
        "mv": "Other",
        "notebook": "BasicMagics",
        "page": "BasicMagics",
        "pastebin": "CodeMagics",
        "pdb": "ExecutionMagics",
        "pdef": "NamespaceMagics",
        "pdoc": "NamespaceMagics",
        "pfile": "NamespaceMagics",
        "pinfo": "NamespaceMagics",
        "pinfo2": "NamespaceMagics",
        "popd": "OSMagics",
        "pprint": "BasicMagics",
        "precision": "BasicMagics",
        "profile": "BasicMagics",
        "prun": "ExecutionMagics",
        "psearch": "NamespaceMagics",
        "psource": "NamespaceMagics",
        "pushd": "OSMagics",
        "pwd": "OSMagics",
        "pycat": "OSMagics",
        "pylab": "PylabMagics",
        "qtconsole": "KernelMagics",
        "quickref": "BasicMagics",
        "recall": "HistoryMagics",
        "rehashx": "OSMagics",
        "reload_ext": "ExtensionMagics",
        "rep": "Other",
        "rerun": "HistoryMagics",
        "reset": "NamespaceMagics",
        "reset_selective": "NamespaceMagics",
        "rm": "Other",
        "rmdir": "Other",
        "run": "ExecutionMagics",
        "save": "CodeMagics",
        "sc": "OSMagics",
        "set_env": "OSMagics",
        "store": "StoreMagics",
        "sx": "OSMagics",
        "system": "OSMagics",
        "tb": "ExecutionMagics",
        "time": "ExecutionMagics",
        "timeit": "ExecutionMagics",
        "unalias": "OSMagics",
        "unload_ext": "ExtensionMagics",
        "who": "NamespaceMagics",
        "who_ls": "NamespaceMagics",
        "whos": "NamespaceMagics",
        "xdel": "NamespaceMagics",
        "xmode": "BasicMagics"
       }
      },
      "text/plain": [
       "Available line magics:\n",
       "%alias  %alias_magic  %autocall  %automagic  %autosave  %bookmark  %cat  %cd  %clear  %colors  %config  %connect_info  %cp  %debug  %dhist  %dirs  %doctest_mode  %ed  %edit  %env  %gui  %hist  %history  %killbgscripts  %ldir  %less  %lf  %lk  %ll  %load  %load_ext  %loadpy  %logoff  %logon  %logstart  %logstate  %logstop  %ls  %lsmagic  %lx  %macro  %magic  %man  %matplotlib  %mkdir  %more  %mv  %notebook  %page  %pastebin  %pdb  %pdef  %pdoc  %pfile  %pinfo  %pinfo2  %popd  %pprint  %precision  %profile  %prun  %psearch  %psource  %pushd  %pwd  %pycat  %pylab  %qtconsole  %quickref  %recall  %rehashx  %reload_ext  %rep  %rerun  %reset  %reset_selective  %rm  %rmdir  %run  %save  %sc  %set_env  %store  %sx  %system  %tb  %time  %timeit  %unalias  %unload_ext  %who  %who_ls  %whos  %xdel  %xmode\n",
       "\n",
       "Available cell magics:\n",
       "%%!  %%HTML  %%SVG  %%bash  %%capture  %%debug  %%file  %%html  %%javascript  %%js  %%latex  %%perl  %%prun  %%pypy  %%python  %%python2  %%python3  %%ruby  %%script  %%sh  %%svg  %%sx  %%system  %%time  %%timeit  %%writefile\n",
       "\n",
       "Automagic is ON, % prefix IS NOT needed for line magics."
      ]
     },
     "execution_count": 115,
     "metadata": {},
     "output_type": "execute_result"
    }
   ],
   "source": [
    "#Commands are Terminal bash commands and require <%%bash> at the beginning of each snippet.\n",
    "#All available \"magic\" commands are listed in this output.\n",
    "% lsmagic"
   ]
  },
  {
   "cell_type": "raw",
   "metadata": {},
   "source": [
    "%%bash\n",
    "# install Entrez Direct \n",
    "# change \"cell type\" to \"code\" if Entrez Diect is not installed. \n",
    "\n",
    "cd ~\n",
    " perl -MNet::FTP -e \\\n",
    " '$ftp = new Net::FTP(\"ftp.ncbi.nlm.nih.gov\", Passive => 1);\n",
    " $ftp->login; $ftp->binary;\n",
    " $ftp->get(\"/entrez/entrezdirect/edirect.tar.gz\");'\n",
    " gunzip -c edirect.tar.gz | tar xf -\n",
    " rm edirect.tar.gz\n",
    " export PATH=$PATH:$HOME/edirect\n",
    " ./edirect/setup.sh"
   ]
  },
  {
   "cell_type": "raw",
   "metadata": {},
   "source": [
    "%%bash\n",
    "npm install npm@latest -g"
   ]
  },
  {
   "cell_type": "raw",
   "metadata": {},
   "source": [
    "%%bash\n",
    "npm -v"
   ]
  },
  {
   "cell_type": "code",
   "execution_count": 134,
   "metadata": {},
   "outputs": [
    {
     "ename": "SyntaxError",
     "evalue": "invalid syntax (<ipython-input-134-24491489c159>, line 1)",
     "output_type": "error",
     "traceback": [
      "\u001b[0;36m  File \u001b[0;32m\"<ipython-input-134-24491489c159>\"\u001b[0;36m, line \u001b[0;32m1\u001b[0m\n\u001b[0;31m    esearch -db sequence -fields all\u001b[0m\n\u001b[0m                       ^\u001b[0m\n\u001b[0;31mSyntaxError\u001b[0m\u001b[0;31m:\u001b[0m invalid syntax\n"
     ]
    }
   ],
   "source": [
    "esearch -db  -fields all"
   ]
  },
  {
   "cell_type": "code",
   "execution_count": 157,
   "metadata": {},
   "outputs": [
    {
     "ename": "SyntaxError",
     "evalue": "invalid syntax (<ipython-input-157-984008e26a70>, line 1)",
     "output_type": "error",
     "traceback": [
      "\u001b[0;36m  File \u001b[0;32m\"<ipython-input-157-984008e26a70>\"\u001b[0;36m, line \u001b[0;32m1\u001b[0m\n\u001b[0;31m    esearch -db assembly -query \"Mus_musculus [ORGN] AND representative [PROP]\" |\u001b[0m\n\u001b[0m                       ^\u001b[0m\n\u001b[0;31mSyntaxError\u001b[0m\u001b[0;31m:\u001b[0m invalid syntax\n"
     ]
    }
   ],
   "source": [
    "esearch -db assembly -query \"Mus musculus [ORGN] AND representative [PROP]\" | \n",
    "elink -target nuccore -name assembly_nuccore_refseq | \n",
    "efetch -format docsum |\n",
    "#xtract -pattern DocumentSummary -element AccessionVersion Slen Title | \n",
    "#sed 's/,.*//' | grep -v scaffold | grep -v contig | grep -v plasmid | sort"
   ]
  },
  {
   "cell_type": "code",
   "execution_count": 162,
   "metadata": {},
   "outputs": [
    {
     "ename": "SyntaxError",
     "evalue": "invalid syntax (<ipython-input-162-577ac7a5ee9b>, line 1)",
     "output_type": "error",
     "traceback": [
      "\u001b[0;36m  File \u001b[0;32m\"<ipython-input-162-577ac7a5ee9b>\"\u001b[0;36m, line \u001b[0;32m1\u001b[0m\n\u001b[0;31m    esearch -db assembly -fields ORGN\u001b[0m\n\u001b[0m                       ^\u001b[0m\n\u001b[0;31mSyntaxError\u001b[0m\u001b[0;31m:\u001b[0m invalid syntax\n"
     ]
    }
   ],
   "source": [
    "esearch -db assembly -fields ORGN"
   ]
  },
  {
   "cell_type": "code",
   "execution_count": 164,
   "metadata": {},
   "outputs": [
    {
     "name": "stdout",
     "output_type": "stream",
     "text": [
      "NC_000067.6\t195471971\tMus musculus strain C57BL/6J chromosome 1\n",
      "NC_000068.7\t182113224\tMus musculus strain C57BL/6J chromosome 2\n",
      "NC_000086.7\t171031299\tMus musculus strain C57BL/6J chromosome X\n",
      "NC_000069.6\t160039680\tMus musculus strain C57BL/6J chromosome 3\n",
      "NC_000070.6\t156508116\tMus musculus strain C57BL/6J chromosome 4\n",
      "NC_000071.6\t151834684\tMus musculus strain C57BL/6J chromosome 5\n",
      "NC_000072.6\t149736546\tMus musculus strain C57BL/6J chromosome 6\n",
      "NC_000073.6\t145441459\tMus musculus strain C57BL/6J chromosome 7\n",
      "NC_000076.6\t130694993\tMus musculus strain C57BL/6J chromosome 10\n",
      "NC_000074.6\t129401213\tMus musculus strain C57BL/6J chromosome 8\n",
      "NC_000080.6\t124902244\tMus musculus strain C57BL/6J chromosome 14\n",
      "NC_000075.6\t124595110\tMus musculus strain C57BL/6J chromosome 9\n",
      "NC_000077.6\t122082543\tMus musculus strain C57BL/6J chromosome 11\n",
      "NC_000079.6\t120421639\tMus musculus strain C57BL/6J chromosome 13\n",
      "NC_000078.6\t120129022\tMus musculus strain C57BL/6J chromosome 12\n",
      "NC_000081.6\t104043685\tMus musculus strain C57BL/6J chromosome 15\n",
      "NC_000082.6\t98207768\tMus musculus strain C57BL/6J chromosome 16\n",
      "NC_000083.6\t94987271\tMus musculus strain C57BL/6J chromosome 17\n",
      "NC_000087.7\t91744698\tMus musculus strain C57BL/6J chromosome Y\n",
      "NC_000084.6\t90702639\tMus musculus strain C57BL/6J chromosome 18\n",
      "NC_000085.6\t61431566\tMus musculus strain C57BL/6J chromosome 19\n",
      "NT_166305.2\t5956088\tMus musculus strain NOD/ShiLtJ chromosome 6 genomic scaffold\n",
      "NT_187004.1\t4910976\tMus musculus strain NOD/ShiLtJ chromosome 17 genomic scaffold\n",
      "NT_187027.1\t4256209\tMus musculus strain NOD/MrkTac chromosome 17 genomic contig\n",
      "NT_187020.1\t3760957\tMus musculus strain NOD/MrkTac chromosome 1 genomic contig\n",
      "NT_166299.2\t3205425\tMus musculus strain NOD/MrkTac chromosome 4 genomic contig\n",
      "NT_187003.1\t3086744\tMus musculus strain NOD/ShiLtJ chromosome 11 genomic contig\n",
      "NT_187023.1\t3050841\tMus musculus strain NOD/MrkTac chromosome 4 genomic contig\n",
      "NT_039662.3\t1934410\tMus musculus strain 129X1/SvJ chromosome 17 genomic contig\n",
      "NT_187005.1\t1908920\tMus musculus strain NOD/ShiLtJ chromosome 17 genomic contig\n",
      "NT_187002.1\t1759414\tMus musculus strain NOD/ShiLtJ chromosome 6 genomic scaffold\n",
      "NT_114985.3\t1714434\tMus musculus strain 129S1/SvImJ chromosome 12 genomic scaffold\n",
      "NT_039614.1\t1666365\tMus musculus strain 129S1/SvImJ chromosome 14 genomic scaffold\n",
      "NT_187025.1\t1625541\tMus musculus strain NOD/MrkTac chromosome 4 genomic contig\n",
      "NT_039634.4\t1618162\tMus musculus strain 129S6/SvEvTac chromosome 16 genomic contig\n",
      "NT_187026.1\t1550185\tMus musculus strain NOD/MrkTac chromosome 11 genomic contig\n",
      "NT_166317.2\t1462311\tMus musculus strain NOD/MrkTac chromosome 11 genomic contig\n",
      "NW_016097317.1\t1224174\tMus musculus strain C57BL/6J chromosome 5 genomic patch of type FIX\n",
      "NT_187009.1\t1154078\tMus musculus strain 129S1/SvImJ chromosome 17 genomic scaffold\n",
      "NT_187022.1\t1153325\tMus musculus strain NOD/MrkTac chromosome 3 genomic contig\n",
      "NW_004450263.1\t1059955\tMus musculus strain C57BL/6J chromosome 17 genomic patch of type FIX\n",
      "NT_187019.1\t1003859\tMus musculus strain NOD/MrkTac chromosome 1 genomic contig\n",
      "NT_187059.1\t953012\tMus musculus strain C57BL/6J chromosome 5 unlocalized genomic contig\n",
      "NW_019168508.1\t709099\tMus musculus strain C57BL/6J chromosome 4 genomic patch of type FIX\n",
      "NT_114257.4\t689363\tMus musculus strain NOD/MrkTac chromosome 3 genomic contig\n",
      "NW_016097314.1\t686942\tMus musculus strain C57BL/6J chromosome 1 genomic patch of type FIX\n",
      "NW_019168528.1\t662433\tMus musculus strain C57BL/6J chromosome 17 genomic patch of type FIX\n",
      "NT_039382.4\t636141\tMus musculus strain 129S1/SvImJ chromosome 6 genomic scaffold\n",
      "NW_006763130.1\t620323\tMus musculus strain NOD/ShiLtJ chromosome 6 genomic patch of type FIX\n",
      "NW_019168506.1\t583977\tMus musculus strain C57BL/6J chromosome 4 genomic patch of type FIX\n",
      "NW_004058056.1\t544189\tMus musculus strain C57BL/6J chromosome Y genomic patch of type FIX\n",
      "NW_019168525.1\t542789\tMus musculus strain C57BL/6J chromosome 15 genomic patch of type FIX\n",
      "NW_019168507.1\t532572\tMus musculus strain C57BL/6J chromosome 4 genomic patch of type FIX\n",
      "NW_012132910.1\t506812\tMus musculus strain C57BL/6J chromosome 19 genomic patch of type FIX\n",
      "NW_004450262.2\t505876\tMus musculus strain C57BL/6J chromosome 16 genomic patch of type FIX\n",
      "NW_012132911.1\t490000\tMus musculus strain C57BL/6J chromosome X genomic patch of type FIX\n",
      "NT_187007.1\t480699\tMus musculus strain 129S1/SvImJ chromosome 16 genomic scaffold\n",
      "NW_004058052.1\t473738\tMus musculus strain C57BL/6J chromosome 7 genomic patch of type FIX\n",
      "NT_166287.2\t466430\tMus musculus strain NOD/MrkTac chromosome 3 genomic contig\n",
      "NW_019168531.1\t460895\tMus musculus strain C57BL/6J chromosome X genomic patch of type FIX\n",
      "NW_006763128.1\t456798\tMus musculus strain NOD/ShiLtJ chromosome 1 genomic patch of type NOVEL\n",
      "NW_019168530.1\t448905\tMus musculus strain C57BL/6J chromosome 18 genomic patch of type FIX\n",
      "NW_019168511.1\t425386\tMus musculus strain C57BL/6J chromosome 10 genomic patch of type FIX\n",
      "NW_012132909.2\t423369\tMus musculus strain C57BL/6J chromosome 15 genomic patch of type FIX\n",
      "NT_039739.2\t414761\tMus musculus strain 129S6/SvEvTac chromosome X genomic contig\n",
      "NW_016097318.1\t414410\tMus musculus strain C57BL/6J chromosome 7 genomic patch of type FIX\n",
      "NT_039223.3\t410905\tMus musculus strain 129S1/SvImJ chromosome 2 genomic scaffold\n",
      "NW_012132902.1\t399265\tMus musculus strain C57BL/6J chromosome 4 genomic patch of type FIX\n",
      "NW_019168519.1\t394982\tMus musculus strain CAST/Ei chromosome 11 genomic patch of type NOVEL\n",
      "NW_019168513.1\t394026\tMus musculus strain WSB/EiJ chromosome 11 genomic patch of type NOVEL\n",
      "NW_019168517.1\t390920\tMus musculus strain PWK/PhJ chromosome 11 genomic patch of type NOVEL\n",
      "NW_019168524.1\t380404\tMus musculus strain C57BL/6J chromosome 15 genomic patch of type FIX\n",
      "NW_019168509.1\t378870\tMus musculus strain C57BL/6J chromosome 4 genomic patch of type FIX\n",
      "NT_187015.1\t374389\tMus musculus strain 129S6/SvEvTac chromosome 16 genomic contig\n",
      "NW_019168520.1\t369973\tMus musculus strain CAST/Ei chromosome 11 genomic patch of type NOVEL\n",
      "NW_019168518.1\t368967\tMus musculus strain PWK/PhJ chromosome 11 genomic patch of type NOVEL\n",
      "NW_004058050.1\t368286\tMus musculus strain C57BL/6J chromosome 4 genomic patch of type FIX\n",
      "NW_019168510.1\t355613\tMus musculus strain C57BL/6J chromosome 10 genomic patch of type FIX\n",
      "NW_004058053.1\t352455\tMus musculus strain C57BL/6J chromosome 18 genomic patch of type FIX\n",
      "NW_019168505.1\t339234\tMus musculus strain C57BL/6J chromosome 3 genomic patch of type FIX\n",
      "NT_165789.2\t336933\tMus musculus strain C57BL/6J chromosome X unlocalized genomic contig\n",
      "NW_004058058.1\t331480\tMus musculus strain C57BL/6J chromosome Y genomic patch of type FIX\n",
      "NW_004450260.1\t331111\tMus musculus strain C57BL/6J chromosome 11 genomic patch of type FIX\n",
      "NW_019168527.1\t328684\tMus musculus strain C57BL/6J chromosome 17 genomic patch of type FIX\n",
      "NT_187021.1\t326027\tMus musculus strain NOD/MrkTac chromosome 1 genomic contig\n",
      "NW_019168514.1\t322221\tMus musculus strain WSB/EiJ chromosome 11 genomic patch of type NOVEL\n",
      "NT_039248.1\t320308\tMus musculus strain 129S1/SvImJ chromosome 3 genomic scaffold\n",
      "NW_019168515.1\t318915\tMus musculus strain C57BL/6J chromosome 11 genomic patch of type FIX\n",
      "NW_012132903.1\t316842\tMus musculus strain C57BL/6J chromosome 4 genomic patch of type FIX\n",
      "NW_004450261.1\t316140\tMus musculus strain C57BL/6J chromosome 12 genomic patch of type FIX\n",
      "NT_039372.2\t312568\tMus musculus strain 129X1/SvJ chromosome 6 genomic contig\n",
      "NW_019168534.1\t305464\tMus musculus strain C57BL/6J chromosome X genomic patch of type FIX\n",
      "NW_016097322.1\t299789\tMus musculus strain C57BL/6J chromosome 19 genomic patch of type FIX\n",
      "NT_039252.1\t292416\tMus musculus strain NOD/MrkTac chromosome 3 genomic contig\n",
      "NT_039666.2\t285971\tMus musculus strain 129S6/SvEvTac chromosome 17 genomic contig\n",
      "NT_187000.1\t284739\tMus musculus strain 129S7/SvEvBrd-Hprt-b-m2 chromosome 4 genomic contig\n",
      "NW_019168523.1\t283434\tMus musculus strain C57BL/6J chromosome 14 genomic patch of type FIX\n",
      "NT_039192.2\t281255\tMus musculus strain 129S6/SvEvTac chromosome 1 genomic contig\n",
      "NT_187010.1\t273566\tMus musculus strain 129S1/SvImJ chromosome 17 genomic scaffold\n",
      "NT_039256.1\t273369\tMus musculus strain 129S1/SvImJ chromosome 3 genomic scaffold\n",
      "NT_039198.1\t272653\tMus musculus strain 129S6/SvEvTac chromosome 1 genomic contig\n",
      "NW_016097313.1\t266016\tMus musculus strain C57BL/6J chromosome 1 genomic patch of type FIX\n",
      "NT_166293.1\t264822\tMus musculus strain 129S7/SvEvBrd-Hprt-b-m2 chromosome 4 genomic contig\n",
      "NW_019168529.1\t263917\tMus musculus strain C57BL/6J chromosome 18 genomic patch of type FIX\n",
      "NT_039334.1\t262166\tMus musculus strain 129S6/SvEvTac chromosome 5 genomic contig\n",
      "NT_187012.1\t261336\tMus musculus strain 129S6/SvEvTac chromosome 16 genomic contig\n",
      "NW_012132912.1\t260447\tMus musculus strain C57BL/6J chromosome X genomic patch of type FIX\n",
      "NT_187061.1\t259875\tMus musculus strain C57BL/6J chromosome Y unlocalized genomic contig\n",
      "NW_019168526.1\t253113\tMus musculus strain C57BL/6J chromosome 17 genomic patch of type FIX\n",
      "NT_039470.1\t251056\tMus musculus strain 129S6/SvEvTac chromosome 8 genomic contig\n",
      "NT_187008.1\t250595\tMus musculus strain 129S1/SvImJ chromosome 16 genomic scaffold\n",
      "NT_111920.1\t247850\tMus musculus strain 129S1/SvImJ chromosome X genomic scaffold\n",
      "NT_187028.1\t247497\tMus musculus strain CAST/Ei chromosome 11 genomic contig\n",
      "NW_004058054.1\t246751\tMus musculus strain C57BL/6J chromosome 19 genomic patch of type FIX\n",
      "NW_019168532.1\t245130\tMus musculus strain C57BL/6J chromosome X genomic patch of type FIX\n",
      "NT_039257.4\t243366\tMus musculus strain NOD/MrkTac chromosome 3 genomic contig\n",
      "NT_166281.1\t241735\tMus musculus strain C57BL/6J chromosome 1 unlocalized genomic contig\n",
      "NT_109318.2\t240498\tMus musculus chromosome 4 genomic contig\n",
      "NT_187030.1\t231969\tMus musculus strain CAST/Ei chromosome 18 genomic contig\n",
      "NT_166434.1\t227966\tMus musculus strain C57BL/6J chromosome 4 unlocalized genomic contig\n",
      "NW_004058057.1\t221588\tMus musculus strain C57BL/6J chromosome Y genomic patch of type FIX\n",
      "NT_187017.1\t220020\tMus musculus strain 129X1/SvJ chromosome 1 genomic contig\n",
      "NW_012132913.1\t219721\tMus musculus strain C57BL/6J chromosome X genomic patch of type FIX\n",
      "NT_187024.1\t215601\tMus musculus strain NOD/MrkTac chromosome 4 genomic contig\n",
      "NW_019168512.1\t215264\tMus musculus strain WSB/EiJ chromosome 11 genomic patch of type NOVEL\n",
      "NW_012132900.1\t214957\tMus musculus strain C57BL/6J chromosome 3 genomic patch of type FIX\n",
      "NW_016097321.1\t211337\tMus musculus strain C57BL/6J chromosome 15 genomic patch of type FIX\n",
      "NW_004450259.3\t210641\tMus musculus strain C57BL/6J chromosome 9 genomic patch of type FIX\n",
      "NT_166400.1\t209635\tMus musculus strain AKR/J chromosome Y genomic contig\n",
      "NT_187053.1\t207968\tMus musculus strain C57BL/6J chromosome 4 unlocalized genomic contig\n",
      "NT_162750.1\t206961\tMus musculus strain C57BL/6J chromosome 1 unlocalized genomic contig\n",
      "NT_187057.1\t205776\tMus musculus strain C57BL/6J chromosome 5 unlocalized genomic contig\n",
      "NW_004058051.1\t205713\tMus musculus strain C57BL/6J chromosome 5 genomic patch of type FIX\n",
      "NT_166398.1\t204663\tMus musculus strain CAST/Ei chromosome Y genomic contig\n",
      "NW_004058055.2\t203377\tMus musculus strain C57BL/6J chromosome X genomic patch of type FIX\n",
      "NW_016097312.1\t200008\tMus musculus strain C57BL/6J chromosome 1 genomic patch of type FIX\n",
      "NT_187056.1\t199368\tMus musculus strain C57BL/6J chromosome 5 unlocalized genomic contig\n",
      "NT_039367.1\t198515\tMus musculus strain 129X1/SvJ chromosome 6 genomic contig\n",
      "NT_166399.1\t196014\tMus musculus strain CAST/Ei chromosome Y genomic contig\n",
      "NT_166438.1\t195993\tMus musculus strain C57BL/6J chromosome 5 unlocalized genomic contig\n",
      "NW_016097315.1\t195735\tMus musculus strain C57BL/6J chromosome 2 genomic patch of type FIX\n",
      "NT_039744.2\t194271\tMus musculus strain 129S1/SvImJ chromosome X genomic scaffold\n",
      "NT_187054.1\t191905\tMus musculus strain C57BL/6J chromosome 4 unlocalized genomic contig\n",
      "NT_166294.1\t191695\tMus musculus strain 129S7/SvEvBrd-Hprt-b-m2 chromosome 4 genomic contig\n",
      "NT_166394.1\t191521\tMus musculus strain AKR/J chromosome Y genomic contig\n",
      "NT_187013.1\t189707\tMus musculus strain 129S6/SvEvTac chromosome 16 genomic contig\n",
      "NT_166396.1\t189119\tMus musculus strain CAST/Ei chromosome Y genomic contig\n",
      "NW_012132905.1\t188269\tMus musculus strain C57BL/6J chromosome 4 genomic patch of type FIX\n",
      "NT_187029.1\t186379\tMus musculus strain CAST/Ei chromosome 11 genomic contig\n",
      "NW_019168516.1\t186144\tMus musculus strain PWK/PhJ chromosome 11 genomic patch of type NOVEL\n",
      "NW_012132901.1\t185548\tMus musculus strain C57BL/6J chromosome 4 genomic patch of type FIX\n",
      "NT_166397.1\t185346\tMus musculus strain AKR/J chromosome Y genomic contig\n",
      "NT_187058.1\t184189\tMus musculus strain C57BL/6J chromosome 5 unlocalized genomic contig\n",
      "NT_187014.1\t184044\tMus musculus strain 129S6/SvEvTac chromosome 16 genomic contig\n",
      "NT_039469.1\t183135\tMus musculus strain 129S6/SvEvTac chromosome 8 genomic contig\n",
      "NT_187060.1\t182347\tMus musculus strain C57BL/6J chromosome Y unlocalized genomic contig\n",
      "NT_109599.1\t180394\tMus musculus strain 129S1/SvImJ chromosome 5 genomic scaffold\n",
      "NT_187006.1\t179252\tMus musculus strain 129S1/SvImJ chromosome 13 genomic scaffold\n",
      "NT_039630.5\t176974\tMus musculus strain 129X1/SvJ chromosome 16 genomic contig\n",
      "NT_166307.1\t175968\tMus musculus strain C57BL/6J chromosome 7 unlocalized genomic contig\n",
      "NW_016097320.1\t171859\tMus musculus strain C57BL/6J chromosome 8 genomic patch of type FIX\n",
      "NW_019168504.1\t171653\tMus musculus strain C57BL/6J chromosome 3 genomic patch of type FIX\n",
      "NT_187016.1\t170763\tMus musculus strain 129S6/SvEvTac chromosome 16 genomic contig\n",
      "NT_039291.1\t170592\tMus musculus strain 129S6/SvEvTac chromosome 4 genomic contig\n",
      "NT_078683.1\t170397\tMus musculus strain 129S6/SvEvTac chromosome 11 genomic contig\n",
      "NT_166280.1\t169725\tMus musculus strain C57BL/6J chromosome 1 unlocalized genomic contig\n",
      "NW_016097316.1\t166096\tMus musculus strain C57BL/6J chromosome 2 genomic patch of type FIX\n",
      "NW_012132908.1\t166012\tMus musculus strain C57BL/6J chromosome 15 genomic patch of type FIX\n",
      "NT_187011.1\t162935\tMus musculus strain 129S1/SvImJ chromosome 17 genomic scaffold\n",
      "NT_039247.2\t161821\tMus musculus strain NOD/MrkTac chromosome 3 genomic contig\n",
      "NT_039525.1\t161334\tMus musculus strain 129X1/SvJ chromosome 11 genomic contig\n",
      "NT_187063.1\t158099\tMus musculus strain C57BL/6J chromosome Y unlocalized genomic contig\n",
      "NT_187062.1\t155838\tMus musculus strain C57BL/6J chromosome Y unlocalized genomic contig\n",
      "NW_019168533.1\t155470\tMus musculus strain C57BL/6J chromosome X genomic patch of type FIX\n",
      "NW_006763129.1\t154766\tMus musculus strain C57BL/6J chromosome 6 genomic patch of type FIX\n",
      "NT_039195.1\t154284\tMus musculus strain 129X1/SvJ chromosome 1 genomic contig\n",
      "NT_166282.1\t153618\tMus musculus strain C57BL/6J chromosome 1 unlocalized genomic contig\n",
      "NT_039373.1\t145152\tMus musculus strain 129S1/SvImJ chromosome 6 genomic scaffold\n",
      "NT_080256.1\t142341\tMus musculus strain NOD/MrkTac genomic contig\n",
      "NT_097336.1\t138490\tMus musculus chromosome 17 genomic contig\n",
      "NT_039292.1\t138473\tMus musculus chromosome 4 genomic contig\n",
      "NT_039594.3\t138435\tMus musculus strain 129S6/SvEvTac chromosome 13 genomic contig\n",
      "NW_012132907.1\t129865\tMus musculus strain C57BL/6J chromosome 10 genomic patch of type FIX\n",
      "NT_080257.1\t124933\tMus musculus strain 129S1/SvImJ chromosome 3 genomic scaffold\n",
      "NT_099024.1\t123835\tMus musculus strain 129S6/SvEvTac chromosome X genomic contig\n",
      "NT_039194.5\t120856\tMus musculus strain 129S6/SvEvTac chromosome 1 genomic contig\n",
      "NW_012132906.1\t120154\tMus musculus strain C57BL/6J chromosome 9 genomic patch of type FIX\n",
      "NW_019168503.1\t117769\tMus musculus strain C57BL/6J chromosome 3 genomic patch of type FIX\n",
      "NT_187064.1\t114452\tMus musculus strain C57BL/6J unplaced genomic contig\n",
      "NW_019168521.1\t111720\tMus musculus strain C57BL/6J chromosome 12 genomic patch of type FIX\n",
      "NT_096797.1\t105813\tMus musculus strain 129X1/SvJ chromosome 14 genomic contig\n",
      "NT_039593.1\t100803\tMus musculus strain A/J chromosome 13 genomic contig\n",
      "NT_166322.1\t99963\tMus musculus strain 129S7/SvEvBrd-Hprt-b-m2 chromosome 12 genomic contig\n",
      "NT_078572.1\t91251\tMus musculus strain 129S1/SvImJ chromosome 7 genomic scaffold\n",
      "NT_187001.1\t89177\tMus musculus strain 129S7/SvEvBrd-Hprt-b-m2 chromosome 15 genomic contig\n",
      "NT_039622.1\t88442\tMus musculus strain 129S6/SvEvTac chromosome 15 genomic contig\n",
      "NT_165784.1\t85548\tMus musculus strain RIII chromosome 18 genomic contig\n",
      "NT_114988.1\t84250\tMus musculus strain 129S1/SvImJ chromosome 12 genomic scaffold\n",
      "NT_166433.1\t83612\tMus musculus strain RIII chromosome 12 genomic contig\n",
      "NT_166295.1\t83218\tMus musculus strain 129S7/SvEvBrd-Hprt-b-m2 chromosome 4 genomic contig\n",
      "NT_039747.4\t78689\tMus musculus strain 129S1/SvImJ chromosome X genomic scaffold\n",
      "NT_078651.1\t77891\tMus musculus chromosome 10 genomic contig\n",
      "NT_039296.1\t76099\tMus musculus strain 129X1/SvJ chromosome 4 genomic contig\n",
      "NT_166463.1\t72385\tMus musculus strain C57BL/6J unplaced genomic contig\n",
      "NW_016097319.1\t71460\tMus musculus strain C57BL/6J chromosome 7 genomic patch of type FIX\n",
      "NT_186999.1\t69753\tMus musculus strain 129S7/SvEvBrd-Hprt-b-m2 chromosome 4 genomic contig\n",
      "NT_166291.1\t66673\tMus musculus strain C57BL/6J chromosome 4 unlocalized genomic contig\n",
      "NW_019168522.1\t66290\tMus musculus strain C57BL/6J chromosome 14 genomic patch of type FIX\n",
      "NT_096355.1\t59641\tMus musculus strain BALB/c chromosome 12 genomic contig\n",
      "NT_095534.1\t55856\tMus musculus strain BALB/c chromosome 7 genomic contig\n",
      "NT_166477.1\t55711\tMus musculus strain C57BL/6J unplaced genomic contig\n",
      "NT_166450.1\t47073\tMus musculus strain C57BL/6J unplaced genomic contig\n",
      "NT_039697.1\t46440\tMus musculus strain 129P2/OlaHsd chromosome 19 genomic contig\n",
      "NW_012132904.1\t45901\tMus musculus strain C57BL/6J chromosome 4 genomic patch of type FIX\n",
      "NT_166451.1\t42057\tMus musculus strain C57BL/6J unplaced genomic contig\n",
      "NT_166338.1\t40056\tMus musculus strain C57BL/6J unplaced genomic contig\n",
      "NT_166283.1\t39340\tMus musculus strain C57BL/6J chromosome 1 unlocalized genomic contig\n",
      "NT_166467.1\t38659\tMus musculus strain C57BL/6J unplaced genomic contig\n",
      "NT_166469.1\t35240\tMus musculus strain C57BL/6J unplaced genomic contig\n",
      "NT_039443.1\t34498\tMus musculus strain 129S2/SvPas chromosome 7 genomic contig\n",
      "NT_166444.1\t31704\tMus musculus strain C57BL/6J unplaced genomic contig\n",
      "NT_166462.1\t31602\tMus musculus strain C57BL/6J unplaced genomic contig\n",
      "NT_166473.1\t28772\tMus musculus strain C57BL/6J unplaced genomic contig\n",
      "NT_166456.1\t28664\tMus musculus strain C57BL/6J unplaced genomic contig\n",
      "NT_039661.4\t28130\tMus musculus strain 129S6/SvEvTac chromosome 17 genomic contig\n",
      "NT_166454.1\t26764\tMus musculus strain C57BL/6J unplaced genomic contig\n",
      "NT_166465.1\t25871\tMus musculus strain C57BL/6J unplaced genomic contig\n",
      "NT_187018.1\t25407\tMus musculus chromosome 19 genomic contig\n",
      "NT_166471.1\t24685\tMus musculus strain C57BL/6J unplaced genomic contig\n",
      "NT_166474.1\t24668\tMus musculus strain C57BL/6J unplaced genomic contig\n",
      "NT_166478.1\t24323\tMus musculus strain C57BL/6J unplaced genomic contig\n",
      "NT_166476.1\t23629\tMus musculus strain C57BL/6J unplaced genomic contig\n",
      "NT_166466.1\t23158\tMus musculus strain C57BL/6J unplaced genomic contig\n",
      "NT_166443.1\t22974\tMus musculus strain C57BL/6J unplaced genomic contig\n",
      "NT_166480.1\t21240\tMus musculus strain C57BL/6J unplaced genomic contig\n",
      "NT_166452.1\t20208\tMus musculus strain C57BL/6J unplaced genomic contig\n",
      "NC_005089.1\t16299\tMus musculus mitochondrion\n",
      "NT_187052.1\t14945\tMus musculus strain C57BL/6J chromosome 4 unlocalized genomic contig\n",
      "NT_187055.1\t1976\tMus musculus strain C57BL/6J chromosome 4 unlocalized genomic contig\n"
     ]
    }
   ],
   "source": [
    "%%bash\n",
    "esearch -db assembly -query \\\n",
    "\"Mus musculus [ORGN] AND representative [PROP]\" | elink -target nuccore -name assembly_nuccore_refseq | efetch -format docsum |\n",
    "xtract -pattern DocumentSummary -element AccessionVersion Slen Title | sed 's/,.*//' |\n",
    "sort -t $'\\t' -k 2,2nr"
   ]
  },
  {
   "cell_type": "code",
   "execution_count": null,
   "metadata": {
    "collapsed": true
   },
   "outputs": [],
   "source": [
    "%%bash\n",
    "esearch -db "
   ]
  }
 ],
 "metadata": {
  "kernelspec": {
   "display_name": "Python 3",
   "language": "python",
   "name": "python3"
  },
  "language_info": {
   "codemirror_mode": {
    "name": "ipython",
    "version": 3
   },
   "file_extension": ".py",
   "mimetype": "text/x-python",
   "name": "python",
   "nbconvert_exporter": "python",
   "pygments_lexer": "ipython3",
   "version": "3.6.1"
  }
 },
 "nbformat": 4,
 "nbformat_minor": 2
}
